{
  "nbformat": 4,
  "nbformat_minor": 0,
  "metadata": {
    "colab": {
      "provenance": []
    },
    "kernelspec": {
      "name": "python3",
      "display_name": "Python 3"
    },
    "language_info": {
      "name": "python"
    }
  },
  "cells": [
    {
      "cell_type": "code",
      "source": [
        "!pip install pennylane"
      ],
      "metadata": {
        "colab": {
          "base_uri": "https://localhost:8080/"
        },
        "id": "erLkU6N04o5W",
        "outputId": "2a2e2a5c-0d3f-49f6-b48d-c01b920939b1"
      },
      "execution_count": null,
      "outputs": [
        {
          "output_type": "stream",
          "name": "stdout",
          "text": [
            "Collecting pennylane\n",
            "  Downloading PennyLane-0.40.0-py3-none-any.whl.metadata (10 kB)\n",
            "Requirement already satisfied: numpy<2.1 in /usr/local/lib/python3.11/dist-packages (from pennylane) (2.0.2)\n",
            "Requirement already satisfied: scipy in /usr/local/lib/python3.11/dist-packages (from pennylane) (1.14.1)\n",
            "Requirement already satisfied: networkx in /usr/local/lib/python3.11/dist-packages (from pennylane) (3.4.2)\n",
            "Collecting rustworkx>=0.14.0 (from pennylane)\n",
            "  Downloading rustworkx-0.16.0-cp39-abi3-manylinux_2_17_x86_64.manylinux2014_x86_64.whl.metadata (10 kB)\n",
            "Requirement already satisfied: autograd in /usr/local/lib/python3.11/dist-packages (from pennylane) (1.7.0)\n",
            "Collecting tomlkit (from pennylane)\n",
            "  Downloading tomlkit-0.13.2-py3-none-any.whl.metadata (2.7 kB)\n",
            "Collecting appdirs (from pennylane)\n",
            "  Downloading appdirs-1.4.4-py2.py3-none-any.whl.metadata (9.0 kB)\n",
            "Collecting autoray>=0.6.11 (from pennylane)\n",
            "  Downloading autoray-0.7.1-py3-none-any.whl.metadata (5.8 kB)\n",
            "Requirement already satisfied: cachetools in /usr/local/lib/python3.11/dist-packages (from pennylane) (5.5.2)\n",
            "Collecting pennylane-lightning>=0.40 (from pennylane)\n",
            "  Downloading PennyLane_Lightning-0.40.0-cp311-cp311-manylinux_2_28_x86_64.whl.metadata (27 kB)\n",
            "Requirement already satisfied: requests in /usr/local/lib/python3.11/dist-packages (from pennylane) (2.32.3)\n",
            "Requirement already satisfied: typing-extensions in /usr/local/lib/python3.11/dist-packages (from pennylane) (4.12.2)\n",
            "Requirement already satisfied: packaging in /usr/local/lib/python3.11/dist-packages (from pennylane) (24.2)\n",
            "Collecting diastatic-malt (from pennylane)\n",
            "  Downloading diastatic_malt-2.15.2-py3-none-any.whl.metadata (2.6 kB)\n",
            "Collecting scipy-openblas32>=0.3.26 (from pennylane-lightning>=0.40->pennylane)\n",
            "  Downloading scipy_openblas32-0.3.29.0.0-py3-none-manylinux_2_17_x86_64.manylinux2014_x86_64.whl.metadata (56 kB)\n",
            "\u001b[2K     \u001b[90m━━━━━━━━━━━━━━━━━━━━━━━━━━━━━━━━━━━━━━━━\u001b[0m \u001b[32m56.1/56.1 kB\u001b[0m \u001b[31m2.6 MB/s\u001b[0m eta \u001b[36m0:00:00\u001b[0m\n",
            "\u001b[?25hRequirement already satisfied: astunparse in /usr/local/lib/python3.11/dist-packages (from diastatic-malt->pennylane) (1.6.3)\n",
            "Requirement already satisfied: gast in /usr/local/lib/python3.11/dist-packages (from diastatic-malt->pennylane) (0.6.0)\n",
            "Requirement already satisfied: termcolor in /usr/local/lib/python3.11/dist-packages (from diastatic-malt->pennylane) (2.5.0)\n",
            "Requirement already satisfied: charset-normalizer<4,>=2 in /usr/local/lib/python3.11/dist-packages (from requests->pennylane) (3.4.1)\n",
            "Requirement already satisfied: idna<4,>=2.5 in /usr/local/lib/python3.11/dist-packages (from requests->pennylane) (3.10)\n",
            "Requirement already satisfied: urllib3<3,>=1.21.1 in /usr/local/lib/python3.11/dist-packages (from requests->pennylane) (2.3.0)\n",
            "Requirement already satisfied: certifi>=2017.4.17 in /usr/local/lib/python3.11/dist-packages (from requests->pennylane) (2025.1.31)\n",
            "Requirement already satisfied: wheel<1.0,>=0.23.0 in /usr/local/lib/python3.11/dist-packages (from astunparse->diastatic-malt->pennylane) (0.45.1)\n",
            "Requirement already satisfied: six<2.0,>=1.6.1 in /usr/local/lib/python3.11/dist-packages (from astunparse->diastatic-malt->pennylane) (1.17.0)\n",
            "Downloading PennyLane-0.40.0-py3-none-any.whl (2.0 MB)\n",
            "\u001b[2K   \u001b[90m━━━━━━━━━━━━━━━━━━━━━━━━━━━━━━━━━━━━━━━━\u001b[0m \u001b[32m2.0/2.0 MB\u001b[0m \u001b[31m13.8 MB/s\u001b[0m eta \u001b[36m0:00:00\u001b[0m\n",
            "\u001b[?25hDownloading autoray-0.7.1-py3-none-any.whl (930 kB)\n",
            "\u001b[2K   \u001b[90m━━━━━━━━━━━━━━━━━━━━━━━━━━━━━━━━━━━━━━━━\u001b[0m \u001b[32m930.8/930.8 kB\u001b[0m \u001b[31m10.7 MB/s\u001b[0m eta \u001b[36m0:00:00\u001b[0m\n",
            "\u001b[?25hDownloading PennyLane_Lightning-0.40.0-cp311-cp311-manylinux_2_28_x86_64.whl (2.4 MB)\n",
            "\u001b[2K   \u001b[90m━━━━━━━━━━━━━━━━━━━━━━━━━━━━━━━━━━━━━━━━\u001b[0m \u001b[32m2.4/2.4 MB\u001b[0m \u001b[31m19.5 MB/s\u001b[0m eta \u001b[36m0:00:00\u001b[0m\n",
            "\u001b[?25hDownloading rustworkx-0.16.0-cp39-abi3-manylinux_2_17_x86_64.manylinux2014_x86_64.whl (2.1 MB)\n",
            "\u001b[2K   \u001b[90m━━━━━━━━━━━━━━━━━━━━━━━━━━━━━━━━━━━━━━━━\u001b[0m \u001b[32m2.1/2.1 MB\u001b[0m \u001b[31m19.7 MB/s\u001b[0m eta \u001b[36m0:00:00\u001b[0m\n",
            "\u001b[?25hDownloading appdirs-1.4.4-py2.py3-none-any.whl (9.6 kB)\n",
            "Downloading diastatic_malt-2.15.2-py3-none-any.whl (167 kB)\n",
            "\u001b[2K   \u001b[90m━━━━━━━━━━━━━━━━━━━━━━━━━━━━━━━━━━━━━━━━\u001b[0m \u001b[32m167.9/167.9 kB\u001b[0m \u001b[31m5.6 MB/s\u001b[0m eta \u001b[36m0:00:00\u001b[0m\n",
            "\u001b[?25hDownloading tomlkit-0.13.2-py3-none-any.whl (37 kB)\n",
            "Downloading scipy_openblas32-0.3.29.0.0-py3-none-manylinux_2_17_x86_64.manylinux2014_x86_64.whl (8.6 MB)\n",
            "\u001b[2K   \u001b[90m━━━━━━━━━━━━━━━━━━━━━━━━━━━━━━━━━━━━━━━━\u001b[0m \u001b[32m8.6/8.6 MB\u001b[0m \u001b[31m25.0 MB/s\u001b[0m eta \u001b[36m0:00:00\u001b[0m\n",
            "\u001b[?25hInstalling collected packages: appdirs, tomlkit, scipy-openblas32, rustworkx, autoray, diastatic-malt, pennylane-lightning, pennylane\n",
            "Successfully installed appdirs-1.4.4 autoray-0.7.1 diastatic-malt-2.15.2 pennylane-0.40.0 pennylane-lightning-0.40.0 rustworkx-0.16.0 scipy-openblas32-0.3.29.0.0 tomlkit-0.13.2\n"
          ]
        }
      ]
    },
    {
      "cell_type": "code",
      "execution_count": null,
      "metadata": {
        "id": "NhpGvXfj3tmE"
      },
      "outputs": [],
      "source": [
        "import pennylane as qml\n",
        "from pennylane import numpy as np\n",
        "from pennylane.templates import RandomLayers\n",
        "import tensorflow as tf\n",
        "from tensorflow import keras\n",
        "import matplotlib.pyplot as plt"
      ]
    },
    {
      "cell_type": "code",
      "source": [
        "from google.colab import drive\n",
        "drive.mount('/content/drive')"
      ],
      "metadata": {
        "colab": {
          "base_uri": "https://localhost:8080/"
        },
        "id": "ftRBbjJP4nyR",
        "outputId": "f850eb11-1da5-4831-f192-f9d7f1540cec"
      },
      "execution_count": null,
      "outputs": [
        {
          "output_type": "stream",
          "name": "stdout",
          "text": [
            "Mounted at /content/drive\n"
          ]
        }
      ]
    },
    {
      "cell_type": "code",
      "source": [
        "import os\n",
        "\n",
        "# Định nghĩa đường dẫn thư mục\n",
        "SAVE_PATH = \"../_static/demonstration_assets/quanvolution/\"\n",
        "\n",
        "# Tạo thư mục nếu chưa tồn tại\n",
        "os.makedirs(SAVE_PATH, exist_ok=True)\n",
        "\n",
        "print(f\"Folder created or already exists at: {SAVE_PATH}\")"
      ],
      "metadata": {
        "colab": {
          "base_uri": "https://localhost:8080/"
        },
        "id": "zTvAZ9Q45p_a",
        "outputId": "3c7cab07-dc23-48a9-de8a-3aaec4735a4e"
      },
      "execution_count": null,
      "outputs": [
        {
          "output_type": "stream",
          "name": "stdout",
          "text": [
            "Folder created or already exists at: ../_static/demonstration_assets/quanvolution/\n"
          ]
        }
      ]
    },
    {
      "cell_type": "code",
      "source": [
        "n_epochs = 30   # Number of optimization epochs\n",
        "n_layers = 1    # Number of random layers\n",
        "n_train = 50    # Size of the train dataset\n",
        "n_test = 30     # Size of the test dataset\n",
        "\n",
        "SAVE_PATH = \"../_static/demonstration_assets/quanvolution/\"  # Data saving folder\n",
        "PREPROCESS = True           # If False, skip quantum processing and load data from SAVE_PATH\n",
        "np.random.seed(0)           # Seed for NumPy random number generator\n",
        "tf.random.set_seed(0)       # Seed for TensorFlow random number generator"
      ],
      "metadata": {
        "id": "40D7ZJwe4DA0"
      },
      "execution_count": null,
      "outputs": []
    },
    {
      "cell_type": "code",
      "source": [
        "mnist_dataset = keras.datasets.mnist\n",
        "(train_images, train_labels), (test_images, test_labels) = mnist_dataset.load_data()\n",
        "\n",
        "# cifar10_dataset = keras.datasets.cifar10\n",
        "# (train_images, train_labels), (test_images, test_labels) = cifar10_dataset.load_data()\n",
        "\n",
        "# # Chuyển đổi ảnh huấn luyện sang grayscale\n",
        "# train_images = tf.image.rgb_to_grayscale(train_images)\n",
        "# train_labels = tf.squeeze(train_labels, axis=1)\n",
        "\n",
        "# # Chuyển đổi ảnh kiểm tra sang grayscale (nếu cần)\n",
        "# test_images = tf.image.rgb_to_grayscale(test_images)\n",
        "# test_labels = tf.squeeze(test_labels, axis=1)\n",
        "\n",
        "# Reduce dataset size\n",
        "train_images = train_images[:n_train]\n",
        "train_labels = train_labels[:n_train]\n",
        "test_images = test_images[:n_test]\n",
        "test_labels = test_labels[:n_test]\n",
        "\n",
        "# print(train_images[0])\n",
        "# Normalize pixel values within 0 and 1\n",
        "train_images = train_images / 255\n",
        "test_images = test_images / 255\n",
        "# print(train_images[0])\n",
        "# Add extra dimension for convolution channels\n",
        "train_images = np.array(train_images[..., tf.newaxis], requires_grad=False)\n",
        "test_images = np.array(test_images[..., tf.newaxis], requires_grad=False)\n",
        "\n",
        "# train_images = np.array(train_images[..., tf.newaxis])\n",
        "# test_images = np.array(test_images[..., tf.newaxis])\n",
        "\n",
        "# Kiểm tra\n",
        "print(\"Train images shape:\", train_images.shape)\n",
        "print(\"Train labels shape:\", train_labels.shape)\n",
        "print(\"Test images shape:\", test_images.shape)\n",
        "print(\"Test labels shape:\", test_labels.shape)"
      ],
      "metadata": {
        "colab": {
          "base_uri": "https://localhost:8080/"
        },
        "id": "HjY8c_Pt4HGf",
        "outputId": "33a1fa35-265e-42b7-f16c-c48d517d5024"
      },
      "execution_count": null,
      "outputs": [
        {
          "output_type": "stream",
          "name": "stdout",
          "text": [
            "Train images shape: (50, 28, 28, 1)\n",
            "Train labels shape: (50,)\n",
            "Test images shape: (30, 28, 28, 1)\n",
            "Test labels shape: (30,)\n"
          ]
        }
      ]
    },
    {
      "cell_type": "code",
      "source": [
        "dev = qml.device(\"default.qubit\", wires=4)\n",
        "# Random circuit parameters\n",
        "rand_params = np.random.uniform(high=2 * np.pi, size=(n_layers, 4))\n",
        "\n",
        "@qml.qnode(dev)\n",
        "def circuit(phi):\n",
        "    # Encoding of 4 classical input values\n",
        "    for j in range(4):\n",
        "        qml.RX(np.pi * phi[j], wires=j)\n",
        "\n",
        "    # Random quantum circuit\n",
        "    RandomLayers(rand_params, wires=list(range(4)))\n",
        "\n",
        "    # Measurement producing 4 classical output values\n",
        "    return [qml.expval(qml.PauliZ(j)) for j in range(4)]"
      ],
      "metadata": {
        "id": "ksxHOBcm4MDF"
      },
      "execution_count": null,
      "outputs": []
    },
    {
      "cell_type": "code",
      "source": [
        "def quanv(image):\n",
        "    \"\"\"Convolves the input image with many applications of the same quantum circuit.\"\"\"\n",
        "    out = np.zeros((14, 14, 4))\n",
        "\n",
        "    # Loop over the coordinates of the top-left pixel of 2X2 squares\n",
        "    for j in range(0, 28, 2):\n",
        "        for k in range(0, 28, 2):\n",
        "            # Process a squared 2x2 region of the image with a quantum circuit\n",
        "            q_results = circuit(\n",
        "                [\n",
        "                    image[j, k, 0],\n",
        "                    image[j, k + 1, 0],\n",
        "                    image[j + 1, k, 0],\n",
        "                    image[j + 1, k + 1, 0]\n",
        "                ]\n",
        "            )\n",
        "            # Assign expectation values to different channels of the output pixel (j/2, k/2)\n",
        "            for c in range(4):\n",
        "                out[j // 2, k // 2, c] = q_results[c]\n",
        "    return out"
      ],
      "metadata": {
        "id": "Gu4xJjZD4S7e"
      },
      "execution_count": null,
      "outputs": []
    },
    {
      "cell_type": "code",
      "source": [
        "# def quanv(image):\n",
        "#     \"\"\"Convolves the input image with many applications of the same quantum circuit.\"\"\"\n",
        "#     out = np.zeros((16, 16, 4))\n",
        "\n",
        "#     # Loop over the coordinates of the top-left pixel of 2X2 squares\n",
        "#     for j in range(0, 32, 2):\n",
        "#         for k in range(0, 32, 2):\n",
        "#             # Process a squared 2x2 region of the image with a quantum circuit\n",
        "#             q_results = circuit(\n",
        "#                 [\n",
        "#                     image[j, k, 0],\n",
        "#                     image[j, k + 1, 0],\n",
        "#                     image[j + 1, k, 0],\n",
        "#                     image[j + 1, k + 1, 0]\n",
        "#                 ]\n",
        "#             )\n",
        "#             # Assign expectation values to different channels of the output pixel (j/2, k/2)\n",
        "#             for c in range(4):\n",
        "#                 out[j // 2, k // 2, c] = q_results[c]\n",
        "#     return out"
      ],
      "metadata": {
        "id": "PCx8tSSCoVQ-"
      },
      "execution_count": null,
      "outputs": []
    },
    {
      "cell_type": "code",
      "source": [
        "if PREPROCESS == True:\n",
        "    q_train_images = []\n",
        "    print(\"Quantum pre-processing of train images:\")\n",
        "    for idx, img in enumerate(train_images):\n",
        "        print(\"{}/{}        \".format(idx + 1, n_train), end=\"\\r\")\n",
        "        q_train_images.append(quanv(img))\n",
        "    q_train_images = np.asarray(q_train_images)\n",
        "    print(q_train_images[0])\n",
        "\n",
        "    q_test_images = []\n",
        "    print(\"\\nQuantum pre-processing of test images:\")\n",
        "    for idx, img in enumerate(test_images):\n",
        "        print(\"{}/{}        \".format(idx + 1, n_test), end=\"\\r\")\n",
        "        q_test_images.append(quanv(img))\n",
        "    q_test_images = np.asarray(q_test_images)\n",
        "\n",
        "    # Save pre-processed images\n",
        "    np.save(SAVE_PATH + \"q_train_images.npy\", q_train_images)\n",
        "    np.save(SAVE_PATH + \"q_test_images.npy\", q_test_images)\n",
        "\n",
        "\n",
        "# Load pre-processed images\n",
        "q_train_images = np.load(SAVE_PATH + \"q_train_images.npy\")\n",
        "q_test_images = np.load(SAVE_PATH + \"q_test_images.npy\")"
      ],
      "metadata": {
        "colab": {
          "base_uri": "https://localhost:8080/"
        },
        "id": "x2NTPeD74WSR",
        "outputId": "f535d8ec-0c45-4202-c434-49a62d133b75"
      },
      "execution_count": null,
      "outputs": [
        {
          "output_type": "stream",
          "name": "stdout",
          "text": [
            "Quantum pre-processing of train images:\n",
            "[[[ 1.         -0.8346166  -0.10606591 -0.8346166 ]\n",
            "  [ 1.         -0.8346166  -0.10606591 -0.8346166 ]\n",
            "  [ 1.         -0.8346166  -0.10606591 -0.8346166 ]\n",
            "  [ 1.         -0.8346166  -0.10606591 -0.8346166 ]\n",
            "  [ 1.         -0.8346166  -0.10606591 -0.8346166 ]\n",
            "  [ 1.         -0.8346166  -0.10606591 -0.8346166 ]\n",
            "  [ 1.         -0.8346166  -0.10606591 -0.8346166 ]\n",
            "  [ 1.         -0.8346166  -0.10606591 -0.8346166 ]\n",
            "  [ 1.         -0.8346166  -0.10606591 -0.8346166 ]\n",
            "  [ 1.         -0.8346166  -0.10606591 -0.8346166 ]\n",
            "  [ 1.         -0.8346166  -0.10606591 -0.8346166 ]\n",
            "  [ 1.         -0.8346166  -0.10606591 -0.8346166 ]\n",
            "  [ 1.         -0.8346166  -0.10606591 -0.8346166 ]\n",
            "  [ 1.         -0.8346166  -0.10606591 -0.8346166 ]]\n",
            "\n",
            " [[ 1.         -0.8346166  -0.10606591 -0.8346166 ]\n",
            "  [ 1.         -0.8346166  -0.10606591 -0.8346166 ]\n",
            "  [ 1.         -0.8346166  -0.10606591 -0.8346166 ]\n",
            "  [ 1.         -0.8346166  -0.10606591 -0.8346166 ]\n",
            "  [ 1.         -0.8346166  -0.10606591 -0.8346166 ]\n",
            "  [ 1.         -0.8346166  -0.10606591 -0.8346166 ]\n",
            "  [ 1.         -0.8346166  -0.10606591 -0.8346166 ]\n",
            "  [ 1.         -0.8346166  -0.10606591 -0.8346166 ]\n",
            "  [ 1.         -0.8346166  -0.10606591 -0.8346166 ]\n",
            "  [ 1.         -0.8346166  -0.10606591 -0.8346166 ]\n",
            "  [ 1.         -0.8346166  -0.10606591 -0.8346166 ]\n",
            "  [ 1.         -0.8346166  -0.10606591 -0.8346166 ]\n",
            "  [ 1.         -0.8346166  -0.10606591 -0.8346166 ]\n",
            "  [ 1.         -0.8346166  -0.10606591 -0.8346166 ]]\n",
            "\n",
            " [[ 1.         -0.8346166  -0.10606591 -0.8346166 ]\n",
            "  [ 1.         -0.8346166  -0.10606591 -0.8346166 ]\n",
            "  [ 1.         -0.8346166  -0.10606591 -0.8346166 ]\n",
            "  [ 1.         -0.8346166  -0.10606591 -0.8346166 ]\n",
            "  [ 1.         -0.8346166  -0.10606591 -0.8346166 ]\n",
            "  [ 1.         -0.8346166  -0.10606591 -0.8346166 ]\n",
            "  [ 1.         -0.8346166  -0.07780364 -0.81417849]\n",
            "  [ 1.         -0.8346166   0.06432574 -0.81417849]\n",
            "  [ 1.         -0.8346166   0.76079714  0.08724119]\n",
            "  [ 1.         -0.8346166   0.69453184 -0.79216378]\n",
            "  [ 1.         -0.8346166   0.72711144  0.8346166 ]\n",
            "  [ 1.         -0.8346166   0.1806195  -0.00514119]\n",
            "  [ 1.         -0.8346166  -0.10606591 -0.8346166 ]\n",
            "  [ 1.         -0.8346166  -0.10606591 -0.8346166 ]]\n",
            "\n",
            " [[ 1.         -0.8346166  -0.10606591 -0.8346166 ]\n",
            "  [ 1.         -0.8346166  -0.10606591 -0.8346166 ]\n",
            "  [ 1.         -0.8346166  -0.10606591 -0.8346166 ]\n",
            "  [ 1.         -0.8346166  -0.10606591 -0.68710058]\n",
            "  [ 0.93247223 -0.75386511  0.26236132  0.75363628]\n",
            "  [ 0.40110153  0.26767009  0.12482931 -0.26758884]\n",
            "  [-0.5         0.83436326  0.12482931 -0.83410999]\n",
            "  [-0.99969645  0.83436326  0.12482931 -0.83410999]\n",
            "  [-0.99969645  0.83436326  0.12482931 -0.83335033]\n",
            "  [-0.93247223  0.43498956  0.65127074  0.23126632]\n",
            "  [-0.99969645  0.82393505  0.58974279  0.63549942]\n",
            "  [-0.73900892 -0.58834257  0.25855305 -0.58834257]\n",
            "  [ 1.         -0.8346166  -0.10606591 -0.8346166 ]\n",
            "  [ 1.         -0.8346166  -0.10606591 -0.8346166 ]]\n",
            "\n",
            " [[ 1.         -0.8346166  -0.10606591 -0.8346166 ]\n",
            "  [ 1.         -0.8346166  -0.10606591 -0.8346166 ]\n",
            "  [ 1.         -0.8346166  -0.10606591 -0.8346166 ]\n",
            "  [ 1.         -0.81417849 -0.10606591 -0.81417849]\n",
            "  [-0.9032472   0.83436326  0.57735765 -0.28697834]\n",
            "  [-0.99969645  0.83436326  0.71218151 -0.83410999]\n",
            "  [-0.99969645  0.83436326  0.12482931 -0.68100471]\n",
            "  [-0.76339828  0.51922569 -0.00202333  0.51922569]\n",
            "  [-0.99514692  0.82223276  0.29397886 -0.26369846]\n",
            "  [ 1.         -0.8346166  -0.10606591 -0.8346166 ]\n",
            "  [ 1.         -0.8346166  -0.10606591 -0.8346166 ]\n",
            "  [ 1.         -0.8346166  -0.10606591 -0.8346166 ]\n",
            "  [ 1.         -0.8346166  -0.10606591 -0.8346166 ]\n",
            "  [ 1.         -0.8346166  -0.10606591 -0.8346166 ]]\n",
            "\n",
            " [[ 1.         -0.8346166  -0.10606591 -0.8346166 ]\n",
            "  [ 1.         -0.8346166  -0.10606591 -0.8346166 ]\n",
            "  [ 1.         -0.8346166  -0.10606591 -0.8346166 ]\n",
            "  [ 1.         -0.8346166  -0.10606591 -0.8346166 ]\n",
            "  [ 1.         -0.82223276 -0.10606591 -0.82223276]\n",
            "  [ 0.99992411  0.26767009 -0.10606591 -0.03779666]\n",
            "  [-0.99969645 -0.37202063  0.12482931  0.25897619]\n",
            "  [ 1.         -0.8346166  -0.08723812 -0.8346166 ]\n",
            "  [ 1.         -0.8346166  -0.10606591 -0.8346166 ]\n",
            "  [ 1.         -0.8346166  -0.10606591 -0.8346166 ]\n",
            "  [ 1.         -0.8346166  -0.10606591 -0.8346166 ]\n",
            "  [ 1.         -0.8346166  -0.10606591 -0.8346166 ]\n",
            "  [ 1.         -0.8346166  -0.10606591 -0.8346166 ]\n",
            "  [ 1.         -0.8346166  -0.10606591 -0.8346166 ]]\n",
            "\n",
            " [[ 1.         -0.8346166  -0.10606591 -0.8346166 ]\n",
            "  [ 1.         -0.8346166  -0.10606591 -0.8346166 ]\n",
            "  [ 1.         -0.8346166  -0.10606591 -0.8346166 ]\n",
            "  [ 1.         -0.8346166  -0.10606591 -0.8346166 ]\n",
            "  [ 1.         -0.8346166  -0.10606591 -0.8346166 ]\n",
            "  [ 1.         -0.82696422 -0.10606591 -0.82696422]\n",
            "  [-0.69613395  0.83436326  0.22249948 -0.82198317]\n",
            "  [ 0.6506183  -0.8346166   0.37449023  0.32532176]\n",
            "  [ 1.         -0.8346166   0.71574123 -0.83455326]\n",
            "  [ 1.         -0.8346166  -0.10606591 -0.8346166 ]\n",
            "  [ 1.         -0.8346166  -0.10606591 -0.8346166 ]\n",
            "  [ 1.         -0.8346166  -0.10606591 -0.8346166 ]\n",
            "  [ 1.         -0.8346166  -0.10606591 -0.8346166 ]\n",
            "  [ 1.         -0.8346166  -0.10606591 -0.8346166 ]]\n",
            "\n",
            " [[ 1.         -0.8346166  -0.10606591 -0.8346166 ]\n",
            "  [ 1.         -0.8346166  -0.10606591 -0.8346166 ]\n",
            "  [ 1.         -0.8346166  -0.10606591 -0.8346166 ]\n",
            "  [ 1.         -0.8346166  -0.10606591 -0.8346166 ]\n",
            "  [ 1.         -0.8346166  -0.10606591 -0.8346166 ]\n",
            "  [ 1.         -0.8346166  -0.10606591 -0.8346166 ]\n",
            "  [ 1.         -0.45240673 -0.10606591 -0.45240673]\n",
            "  [-0.9829731   0.83436326  0.3114294  -0.55061678]\n",
            "  [-0.99969645 -0.08724119  0.12482931  0.08721471]\n",
            "  [ 0.952942   -0.8346166   0.76279096 -0.78886612]\n",
            "  [ 1.         -0.8346166  -0.10606591 -0.8346166 ]\n",
            "  [ 1.         -0.8346166  -0.10606591 -0.8346166 ]\n",
            "  [ 1.         -0.8346166  -0.10606591 -0.8346166 ]\n",
            "  [ 1.         -0.8346166  -0.10606591 -0.8346166 ]]\n",
            "\n",
            " [[ 1.         -0.8346166  -0.10606591 -0.8346166 ]\n",
            "  [ 1.         -0.8346166  -0.10606591 -0.8346166 ]\n",
            "  [ 1.         -0.8346166  -0.10606591 -0.8346166 ]\n",
            "  [ 1.         -0.8346166  -0.10606591 -0.8346166 ]\n",
            "  [ 1.         -0.8346166  -0.10606591 -0.8346166 ]\n",
            "  [ 1.         -0.8346166  -0.10606591 -0.8346166 ]\n",
            "  [ 1.         -0.8346166  -0.10606591 -0.8346166 ]\n",
            "  [ 1.         -0.81845406 -0.10606591 -0.81845406]\n",
            "  [ 0.41235632  0.83404661 -0.10606591 -0.83176897]\n",
            "  [-0.99969645  0.55846751  0.12482931 -0.55694244]\n",
            "  [ 1.         -0.8346166   0.46633319 -0.8346166 ]\n",
            "  [ 1.         -0.8346166  -0.10606591 -0.8346166 ]\n",
            "  [ 1.         -0.8346166  -0.10606591 -0.8346166 ]\n",
            "  [ 1.         -0.8346166  -0.10606591 -0.8346166 ]]\n",
            "\n",
            " [[ 1.         -0.8346166  -0.10606591 -0.8346166 ]\n",
            "  [ 1.         -0.8346166  -0.10606591 -0.8346166 ]\n",
            "  [ 1.         -0.8346166  -0.10606591 -0.8346166 ]\n",
            "  [ 1.         -0.8346166  -0.10606591 -0.8346166 ]\n",
            "  [ 1.         -0.8346166  -0.10606591 -0.8346166 ]\n",
            "  [ 1.         -0.8346166  -0.10606591 -0.8346166 ]\n",
            "  [ 1.         -0.8346166   0.25855305  0.20855649]\n",
            "  [ 0.84366715  0.02570207  0.3408809  -0.02569427]\n",
            "  [-0.63171101  0.83436326  0.12482931 -0.83410999]\n",
            "  [-0.99969645  0.69288538  0.15282878 -0.43105287]\n",
            "  [ 0.99969645 -0.8346166  -0.10606591 -0.8346166 ]\n",
            "  [ 1.         -0.8346166  -0.10606591 -0.8346166 ]\n",
            "  [ 1.         -0.8346166  -0.10606591 -0.8346166 ]\n",
            "  [ 1.         -0.8346166  -0.10606591 -0.8346166 ]]\n",
            "\n",
            " [[ 1.         -0.8346166  -0.10606591 -0.8346166 ]\n",
            "  [ 1.         -0.8346166  -0.10606591 -0.8346166 ]\n",
            "  [ 1.         -0.8346166  -0.10606591 -0.8346166 ]\n",
            "  [ 1.         -0.8346166  -0.10606591 -0.8346166 ]\n",
            "  [ 1.         -0.8346166   0.11145385 -0.57357915]\n",
            "  [ 0.95660442 -0.13817401  0.46954741  0.13813207]\n",
            "  [-0.91354546  0.83436326  0.12482931 -0.83410999]\n",
            "  [-0.99969645  0.83436326  0.12482931 -0.63695148]\n",
            "  [-0.99969645  0.65663039  0.58359451  0.65643107]\n",
            "  [ 0.57273514 -0.8346166  -0.10606591 -0.8346166 ]\n",
            "  [ 1.         -0.8346166  -0.10606591 -0.8346166 ]\n",
            "  [ 1.         -0.8346166  -0.10606591 -0.8346166 ]\n",
            "  [ 1.         -0.8346166  -0.10606591 -0.8346166 ]\n",
            "  [ 1.         -0.8346166  -0.10606591 -0.8346166 ]]\n",
            "\n",
            " [[ 1.         -0.8346166  -0.10606591 -0.8346166 ]\n",
            "  [ 1.         -0.8346166  -0.10606591 -0.8346166 ]\n",
            "  [ 1.         -0.8346166   0.39563837  0.43498956]\n",
            "  [ 0.97551197  0.42618127  0.36616999 -0.42605191]\n",
            "  [-0.9032472   0.83436326  0.12482931 -0.83410999]\n",
            "  [-0.99969645  0.83436326  0.12482931 -0.82671319]\n",
            "  [-0.99969645  0.61678911  0.7683182   0.61113393]\n",
            "  [ 0.55236497 -0.82949134 -0.10606591 -0.82949134]\n",
            "  [ 1.         -0.8346166  -0.10606591 -0.8346166 ]\n",
            "  [ 1.         -0.8346166  -0.10606591 -0.8346166 ]\n",
            "  [ 1.         -0.8346166  -0.10606591 -0.8346166 ]\n",
            "  [ 1.         -0.8346166  -0.10606591 -0.8346166 ]\n",
            "  [ 1.         -0.8346166  -0.10606591 -0.8346166 ]\n",
            "  [ 1.         -0.8346166  -0.10606591 -0.8346166 ]]\n",
            "\n",
            " [[ 1.         -0.8346166  -0.10606591 -0.8346166 ]\n",
            "  [ 1.         -0.8346166  -0.10606591 -0.8346166 ]\n",
            "  [-0.10452846  0.83436326 -0.10606591  0.83436326]\n",
            "  [-0.99969645  0.83436326 -0.10606591  0.83436326]\n",
            "  [-0.862929    0.0770087  -0.10606591  0.0770087 ]\n",
            "  [-0.05541147 -0.81845406 -0.10606591 -0.81845406]\n",
            "  [ 1.         -0.8346166  -0.10606591 -0.8346166 ]\n",
            "  [ 1.         -0.8346166  -0.10606591 -0.8346166 ]\n",
            "  [ 1.         -0.8346166  -0.10606591 -0.8346166 ]\n",
            "  [ 1.         -0.8346166  -0.10606591 -0.8346166 ]\n",
            "  [ 1.         -0.8346166  -0.10606591 -0.8346166 ]\n",
            "  [ 1.         -0.8346166  -0.10606591 -0.8346166 ]\n",
            "  [ 1.         -0.8346166  -0.10606591 -0.8346166 ]\n",
            "  [ 1.         -0.8346166  -0.10606591 -0.8346166 ]]\n",
            "\n",
            " [[ 1.         -0.8346166  -0.10606591 -0.8346166 ]\n",
            "  [ 1.         -0.8346166  -0.10606591 -0.8346166 ]\n",
            "  [ 1.         -0.8346166  -0.10606591 -0.8346166 ]\n",
            "  [ 1.         -0.8346166  -0.10606591 -0.8346166 ]\n",
            "  [ 1.         -0.8346166  -0.10606591 -0.8346166 ]\n",
            "  [ 1.         -0.8346166  -0.10606591 -0.8346166 ]\n",
            "  [ 1.         -0.8346166  -0.10606591 -0.8346166 ]\n",
            "  [ 1.         -0.8346166  -0.10606591 -0.8346166 ]\n",
            "  [ 1.         -0.8346166  -0.10606591 -0.8346166 ]\n",
            "  [ 1.         -0.8346166  -0.10606591 -0.8346166 ]\n",
            "  [ 1.         -0.8346166  -0.10606591 -0.8346166 ]\n",
            "  [ 1.         -0.8346166  -0.10606591 -0.8346166 ]\n",
            "  [ 1.         -0.8346166  -0.10606591 -0.8346166 ]\n",
            "  [ 1.         -0.8346166  -0.10606591 -0.8346166 ]]]\n",
            "\n",
            "Quantum pre-processing of test images:\n"
          ]
        }
      ]
    },
    {
      "cell_type": "code",
      "source": [
        "n_samples = 4\n",
        "n_channels = 4\n",
        "fig, axes = plt.subplots(1 + n_channels, n_samples, figsize=(10, 10))\n",
        "for k in range(n_samples):\n",
        "    axes[0, 0].set_ylabel(\"Input\")\n",
        "    if k != 0:\n",
        "        axes[0, k].yaxis.set_visible(False)\n",
        "    axes[0, k].imshow(train_images[k, :, :, 0], cmap=\"gray\")\n",
        "\n",
        "    # Plot all output channels\n",
        "    for c in range(n_channels):\n",
        "        axes[c + 1, 0].set_ylabel(\"Output [ch. {}]\".format(c))\n",
        "        if k != 0:\n",
        "            axes[c, k].yaxis.set_visible(False)\n",
        "        axes[c + 1, k].imshow(q_train_images[k, :, :, c], cmap=\"gray\")\n",
        "\n",
        "plt.tight_layout()\n",
        "plt.show()"
      ],
      "metadata": {
        "colab": {
          "base_uri": "https://localhost:8080/",
          "height": 839
        },
        "id": "1zUhy9Kl4YF9",
        "outputId": "54973cf9-3d9a-4b66-9982-9435e8991b1c"
      },
      "execution_count": null,
      "outputs": [
        {
          "output_type": "display_data",
          "data": {
            "text/plain": [
              "<Figure size 1000x1000 with 20 Axes>"
            ],
            "image/png": "[encoded data removed]"
          },
          "metadata": {}
        }
      ]
    },
    {
      "cell_type": "code",
      "source": [
        "def MyModel():\n",
        "    \"\"\"Initializes and returns a custom Keras model\n",
        "    which is ready to be trained.\"\"\"\n",
        "    model = keras.models.Sequential([\n",
        "        keras.layers.Flatten(),\n",
        "        keras.layers.Dense(10, activation=\"softmax\")\n",
        "    ])\n",
        "\n",
        "    model.compile(\n",
        "        optimizer='adam',\n",
        "        loss=\"sparse_categorical_crossentropy\",\n",
        "        metrics=[\"accuracy\"],\n",
        "    )\n",
        "    return model"
      ],
      "metadata": {
        "id": "LSZY5WlQ4a81"
      },
      "execution_count": null,
      "outputs": []
    },
    {
      "cell_type": "code",
      "source": [
        "q_model = MyModel()\n",
        "\n",
        "q_history = q_model.fit(\n",
        "    q_train_images,\n",
        "    train_labels,\n",
        "    validation_data=(q_test_images, test_labels),\n",
        "    batch_size=4,\n",
        "    epochs=n_epochs,\n",
        "    verbose=2,\n",
        ")"
      ],
      "metadata": {
        "colab": {
          "base_uri": "https://localhost:8080/"
        },
        "id": "kgOoeoQ34cSF",
        "outputId": "1ede72c7-9a6f-434d-c899-afdf1252ea31"
      },
      "execution_count": null,
      "outputs": [
        {
          "output_type": "stream",
          "name": "stdout",
          "text": [
            "Epoch 1/30\n",
            "13/13 - 1s - 73ms/step - accuracy: 0.1600 - loss: 2.8028 - val_accuracy: 0.1333 - val_loss: 2.3226\n",
            "Epoch 2/30\n",
            "13/13 - 0s - 12ms/step - accuracy: 0.4400 - loss: 1.8883 - val_accuracy: 0.2667 - val_loss: 2.0875\n",
            "Epoch 3/30\n",
            "13/13 - 0s - 26ms/step - accuracy: 0.6800 - loss: 1.5491 - val_accuracy: 0.4333 - val_loss: 1.8504\n",
            "Epoch 4/30\n",
            "13/13 - 0s - 21ms/step - accuracy: 0.7600 - loss: 1.2200 - val_accuracy: 0.5333 - val_loss: 1.6925\n",
            "Epoch 5/30\n",
            "13/13 - 0s - 23ms/step - accuracy: 0.9000 - loss: 0.9816 - val_accuracy: 0.5333 - val_loss: 1.5753\n",
            "Epoch 6/30\n",
            "13/13 - 0s - 23ms/step - accuracy: 0.9200 - loss: 0.8049 - val_accuracy: 0.5667 - val_loss: 1.4835\n",
            "Epoch 7/30\n",
            "13/13 - 0s - 25ms/step - accuracy: 0.9200 - loss: 0.6689 - val_accuracy: 0.6000 - val_loss: 1.4081\n",
            "Epoch 8/30\n",
            "13/13 - 0s - 14ms/step - accuracy: 0.9800 - loss: 0.5605 - val_accuracy: 0.6000 - val_loss: 1.3430\n",
            "Epoch 9/30\n",
            "13/13 - 0s - 24ms/step - accuracy: 0.9800 - loss: 0.4754 - val_accuracy: 0.6000 - val_loss: 1.2923\n",
            "Epoch 10/30\n",
            "13/13 - 0s - 24ms/step - accuracy: 1.0000 - loss: 0.4072 - val_accuracy: 0.6667 - val_loss: 1.2497\n",
            "Epoch 11/30\n",
            "13/13 - 0s - 15ms/step - accuracy: 1.0000 - loss: 0.3523 - val_accuracy: 0.6667 - val_loss: 1.2132\n",
            "Epoch 12/30\n",
            "13/13 - 0s - 23ms/step - accuracy: 1.0000 - loss: 0.3074 - val_accuracy: 0.6667 - val_loss: 1.1825\n",
            "Epoch 13/30\n",
            "13/13 - 0s - 18ms/step - accuracy: 1.0000 - loss: 0.2705 - val_accuracy: 0.6667 - val_loss: 1.1561\n",
            "Epoch 14/30\n",
            "13/13 - 0s - 9ms/step - accuracy: 1.0000 - loss: 0.2400 - val_accuracy: 0.6667 - val_loss: 1.1334\n",
            "Epoch 15/30\n",
            "13/13 - 0s - 12ms/step - accuracy: 1.0000 - loss: 0.2144 - val_accuracy: 0.6667 - val_loss: 1.1137\n",
            "Epoch 16/30\n",
            "13/13 - 0s - 8ms/step - accuracy: 1.0000 - loss: 0.1928 - val_accuracy: 0.7000 - val_loss: 1.0964\n",
            "Epoch 17/30\n",
            "13/13 - 0s - 11ms/step - accuracy: 1.0000 - loss: 0.1745 - val_accuracy: 0.7000 - val_loss: 1.0810\n",
            "Epoch 18/30\n",
            "13/13 - 0s - 11ms/step - accuracy: 1.0000 - loss: 0.1587 - val_accuracy: 0.7000 - val_loss: 1.0674\n",
            "Epoch 19/30\n",
            "13/13 - 0s - 11ms/step - accuracy: 1.0000 - loss: 0.1451 - val_accuracy: 0.7333 - val_loss: 1.0551\n",
            "Epoch 20/30\n",
            "13/13 - 0s - 11ms/step - accuracy: 1.0000 - loss: 0.1333 - val_accuracy: 0.7333 - val_loss: 1.0440\n",
            "Epoch 21/30\n",
            "13/13 - 0s - 9ms/step - accuracy: 1.0000 - loss: 0.1230 - val_accuracy: 0.7333 - val_loss: 1.0340\n",
            "Epoch 22/30\n",
            "13/13 - 0s - 9ms/step - accuracy: 1.0000 - loss: 0.1139 - val_accuracy: 0.7333 - val_loss: 1.0249\n",
            "Epoch 23/30\n",
            "13/13 - 0s - 10ms/step - accuracy: 1.0000 - loss: 0.1058 - val_accuracy: 0.7333 - val_loss: 1.0165\n",
            "Epoch 24/30\n",
            "13/13 - 0s - 12ms/step - accuracy: 1.0000 - loss: 0.0986 - val_accuracy: 0.7333 - val_loss: 1.0088\n",
            "Epoch 25/30\n",
            "13/13 - 0s - 9ms/step - accuracy: 1.0000 - loss: 0.0922 - val_accuracy: 0.7333 - val_loss: 1.0018\n",
            "Epoch 26/30\n",
            "13/13 - 0s - 11ms/step - accuracy: 1.0000 - loss: 0.0864 - val_accuracy: 0.7333 - val_loss: 0.9952\n",
            "Epoch 27/30\n",
            "13/13 - 0s - 11ms/step - accuracy: 1.0000 - loss: 0.0812 - val_accuracy: 0.7333 - val_loss: 0.9892\n",
            "Epoch 28/30\n",
            "13/13 - 0s - 9ms/step - accuracy: 1.0000 - loss: 0.0765 - val_accuracy: 0.7333 - val_loss: 0.9835\n",
            "Epoch 29/30\n",
            "13/13 - 0s - 13ms/step - accuracy: 1.0000 - loss: 0.0722 - val_accuracy: 0.7333 - val_loss: 0.9783\n",
            "Epoch 30/30\n",
            "13/13 - 0s - 11ms/step - accuracy: 1.0000 - loss: 0.0683 - val_accuracy: 0.7333 - val_loss: 0.9734\n"
          ]
        }
      ]
    },
    {
      "cell_type": "code",
      "source": [
        "c_model = MyModel()\n",
        "\n",
        "c_history = c_model.fit(\n",
        "    train_images,\n",
        "    train_labels,\n",
        "    validation_data=(test_images, test_labels),\n",
        "    batch_size=4,\n",
        "    epochs=n_epochs,\n",
        "    verbose=2,\n",
        ")"
      ],
      "metadata": {
        "colab": {
          "base_uri": "https://localhost:8080/"
        },
        "id": "jHQ90n1T4dwV",
        "outputId": "35f0053f-bfb2-43ae-f4f8-e1db9aecb5cb"
      },
      "execution_count": null,
      "outputs": [
        {
          "output_type": "stream",
          "name": "stdout",
          "text": [
            "Epoch 1/30\n",
            "13/13 - 1s - 69ms/step - accuracy: 0.1000 - loss: 2.4337 - val_accuracy: 0.0667 - val_loss: 2.3712\n",
            "Epoch 2/30\n",
            "13/13 - 0s - 34ms/step - accuracy: 0.4000 - loss: 2.0310 - val_accuracy: 0.3333 - val_loss: 2.2039\n",
            "Epoch 3/30\n",
            "13/13 - 0s - 10ms/step - accuracy: 0.5800 - loss: 1.7460 - val_accuracy: 0.3667 - val_loss: 2.0543\n",
            "Epoch 4/30\n",
            "13/13 - 0s - 10ms/step - accuracy: 0.7000 - loss: 1.5055 - val_accuracy: 0.4000 - val_loss: 1.9226\n",
            "Epoch 5/30\n",
            "13/13 - 0s - 8ms/step - accuracy: 0.8200 - loss: 1.3018 - val_accuracy: 0.4000 - val_loss: 1.8105\n",
            "Epoch 6/30\n",
            "13/13 - 0s - 11ms/step - accuracy: 0.8600 - loss: 1.1305 - val_accuracy: 0.4667 - val_loss: 1.7165\n",
            "Epoch 7/30\n",
            "13/13 - 0s - 11ms/step - accuracy: 0.9000 - loss: 0.9868 - val_accuracy: 0.4667 - val_loss: 1.6378\n",
            "Epoch 8/30\n",
            "13/13 - 0s - 9ms/step - accuracy: 0.9400 - loss: 0.8662 - val_accuracy: 0.4667 - val_loss: 1.5711\n",
            "Epoch 9/30\n",
            "13/13 - 0s - 11ms/step - accuracy: 0.9600 - loss: 0.7645 - val_accuracy: 0.5000 - val_loss: 1.5142\n",
            "Epoch 10/30\n",
            "13/13 - 0s - 13ms/step - accuracy: 0.9600 - loss: 0.6784 - val_accuracy: 0.5333 - val_loss: 1.4653\n",
            "Epoch 11/30\n",
            "13/13 - 0s - 9ms/step - accuracy: 0.9800 - loss: 0.6052 - val_accuracy: 0.6000 - val_loss: 1.4230\n",
            "Epoch 12/30\n",
            "13/13 - 0s - 10ms/step - accuracy: 1.0000 - loss: 0.5425 - val_accuracy: 0.6333 - val_loss: 1.3862\n",
            "Epoch 13/30\n",
            "13/13 - 0s - 8ms/step - accuracy: 1.0000 - loss: 0.4887 - val_accuracy: 0.6333 - val_loss: 1.3540\n",
            "Epoch 14/30\n",
            "13/13 - 0s - 10ms/step - accuracy: 1.0000 - loss: 0.4422 - val_accuracy: 0.6333 - val_loss: 1.3258\n",
            "Epoch 15/30\n",
            "13/13 - 0s - 10ms/step - accuracy: 1.0000 - loss: 0.4017 - val_accuracy: 0.7000 - val_loss: 1.3008\n",
            "Epoch 16/30\n",
            "13/13 - 0s - 10ms/step - accuracy: 1.0000 - loss: 0.3664 - val_accuracy: 0.7000 - val_loss: 1.2786\n",
            "Epoch 17/30\n",
            "13/13 - 0s - 9ms/step - accuracy: 1.0000 - loss: 0.3355 - val_accuracy: 0.7000 - val_loss: 1.2589\n",
            "Epoch 18/30\n",
            "13/13 - 0s - 11ms/step - accuracy: 1.0000 - loss: 0.3082 - val_accuracy: 0.7000 - val_loss: 1.2412\n",
            "Epoch 19/30\n",
            "13/13 - 0s - 9ms/step - accuracy: 1.0000 - loss: 0.2841 - val_accuracy: 0.7000 - val_loss: 1.2253\n",
            "Epoch 20/30\n",
            "13/13 - 0s - 10ms/step - accuracy: 1.0000 - loss: 0.2626 - val_accuracy: 0.7000 - val_loss: 1.2110\n",
            "Epoch 21/30\n",
            "13/13 - 0s - 9ms/step - accuracy: 1.0000 - loss: 0.2435 - val_accuracy: 0.7000 - val_loss: 1.1980\n",
            "Epoch 22/30\n",
            "13/13 - 0s - 10ms/step - accuracy: 1.0000 - loss: 0.2265 - val_accuracy: 0.7000 - val_loss: 1.1863\n",
            "Epoch 23/30\n",
            "13/13 - 0s - 10ms/step - accuracy: 1.0000 - loss: 0.2111 - val_accuracy: 0.7000 - val_loss: 1.1755\n",
            "Epoch 24/30\n",
            "13/13 - 0s - 12ms/step - accuracy: 1.0000 - loss: 0.1973 - val_accuracy: 0.7000 - val_loss: 1.1658\n",
            "Epoch 25/30\n",
            "13/13 - 0s - 21ms/step - accuracy: 1.0000 - loss: 0.1848 - val_accuracy: 0.6667 - val_loss: 1.1568\n",
            "Epoch 26/30\n",
            "13/13 - 0s - 10ms/step - accuracy: 1.0000 - loss: 0.1735 - val_accuracy: 0.6667 - val_loss: 1.1486\n",
            "Epoch 27/30\n",
            "13/13 - 0s - 9ms/step - accuracy: 1.0000 - loss: 0.1632 - val_accuracy: 0.6667 - val_loss: 1.1410\n",
            "Epoch 28/30\n",
            "13/13 - 0s - 11ms/step - accuracy: 1.0000 - loss: 0.1538 - val_accuracy: 0.6333 - val_loss: 1.1340\n",
            "Epoch 29/30\n",
            "13/13 - 0s - 9ms/step - accuracy: 1.0000 - loss: 0.1453 - val_accuracy: 0.6333 - val_loss: 1.1276\n",
            "Epoch 30/30\n",
            "13/13 - 0s - 15ms/step - accuracy: 1.0000 - loss: 0.1374 - val_accuracy: 0.6333 - val_loss: 1.1216\n"
          ]
        }
      ]
    },
    {
      "cell_type": "code",
      "source": [
        "import matplotlib.pyplot as plt\n",
        "\n",
        "# plt.style.use(\"seaborn\")\n",
        "fig, (ax1, ax2) = plt.subplots(2, 1, figsize=(6, 9))\n",
        "\n",
        "ax1.plot(q_history.history[\"val_accuracy\"], \"-ob\", label=\"QCNN\")\n",
        "ax1.plot(c_history.history[\"val_accuracy\"], \"-or\", label=\"CNN\")\n",
        "ax1.set_ylabel(\"Accuracy\")\n",
        "ax1.set_ylim([0, 1])\n",
        "ax1.set_xlabel(\"Epoch\")\n",
        "ax1.legend()\n",
        "\n",
        "ax2.plot(q_history.history[\"val_loss\"], \"-ob\", label=\"QCNN\")\n",
        "ax2.plot(c_history.history[\"val_loss\"], \"-or\", label=\"CNN\")\n",
        "ax2.set_ylabel(\"Loss\")\n",
        "ax2.set_ylim(top=2.5)\n",
        "ax2.set_xlabel(\"Epoch\")\n",
        "ax2.legend()\n",
        "plt.tight_layout()\n",
        "plt.show()"
      ],
      "metadata": {
        "colab": {
          "base_uri": "https://localhost:8080/",
          "height": 907
        },
        "id": "npYzKNi24flK",
        "outputId": "ab209d0c-79f2-41ec-aa42-994555efc992"
      },
      "execution_count": null,
      "outputs": [
        {
          "output_type": "display_data",
          "data": {
            "text/plain": [
              "<Figure size 600x900 with 2 Axes>"
            ],
            "image/png": "[encoded data removed]"
          },
          "metadata": {}
        }
      ]
    }
  ]
}